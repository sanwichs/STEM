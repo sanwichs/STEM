{
 "cells": [
  {
   "cell_type": "code",
   "execution_count": null,
   "id": "c04cb837",
   "metadata": {
    "tags": []
   },
   "outputs": [],
   "source": [
    "%pylab inline\n",
    "import os\n",
    "os.environ[\"CUDA_VISIBLE_DEVICES\"] = \"0\"\n",
    "import scanpy as sc\n",
    "import pandas as pd\n",
    "import torch\n",
    "import scipy\n",
    "import time\n",
    "from STEM.model import *\n",
    "from STEM.utils import *\n",
    "torch.cuda.empty_cache()"
   ]
  },
  {
   "cell_type": "code",
   "execution_count": null,
   "id": "66884699",
   "metadata": {
    "tags": []
   },
   "outputs": [],
   "source": [
    "scdata = pd.read_csv('./data/mousedata_2020/E1z2/simu_sc_counts.csv',index_col=0)\n",
    "scdata = scdata.T\n",
    "stdata = pd.read_csv('data/mousedata_2020/E1z2/simu_st_counts.csv',index_col=0)\n",
    "stdata = stdata.T\n",
    "stgtcelltype = pd.read_csv('./data/mousedata_2020/E1z2/simu_st_celltype.csv',index_col=0)\n",
    "spcoor = pd.read_csv('./data/mousedata_2020/E1z2/simu_st_metadata.csv',index_col=0)\n",
    "scmetadata = pd.read_csv('./data/mousedata_2020/E1z2/metadata.csv',index_col=0)\n",
    "\n",
    "adata = sc.AnnData(scdata,obs=scmetadata)\n",
    "sc.pp.normalize_total(adata)\n",
    "sc.pp.log1p(adata)\n",
    "scdata = pd.DataFrame(adata.X,index=adata.obs_names,columns=adata.var_names)\n",
    "stadata = sc.AnnData(stdata)\n",
    "sc.pp.normalize_total(stadata)\n",
    "sc.pp.log1p(stadata)\n",
    "stdata = pd.DataFrame(stadata.X,index=stadata.obs_names,columns=stadata.var_names)\n",
    "\n",
    "adata.obsm['spatial'] = scmetadata[['x_global','y_global']].values\n",
    "stadata.obsm['spatial'] = spcoor"
   ]
  },
  {
   "cell_type": "code",
   "execution_count": null,
   "id": "d7d9e266-f365-440c-ab2a-45545f001307",
   "metadata": {
    "tags": []
   },
   "outputs": [],
   "source": [
    "sc.pp.calculate_qc_metrics(adata,percent_top=None, log1p=False, inplace=True)\n",
    "adata.obs['n_genes_by_counts'].median()\n",
    "\n",
    "sc.pp.calculate_qc_metrics(stadata,percent_top=None, log1p=False, inplace=True)\n",
    "stadata.obs['n_genes_by_counts'].median()\n",
    "\n",
    "dp = 1- adata.obs['n_genes_by_counts'].median()/stadata.obs['n_genes_by_counts'].median()\n",
    "dp"
   ]
  },
  {
   "cell_type": "code",
   "execution_count": null,
   "id": "a0973dff",
   "metadata": {
    "scrolled": true,
    "tags": []
   },
   "outputs": [],
   "source": [
    "figsize(2,2)\n",
    "sc.pl.violin(stadata, ['n_genes_by_counts', 'total_counts'],jitter=0.4, multi_panel=True)"
   ]
  },
  {
   "cell_type": "code",
   "execution_count": null,
   "id": "964ed9b5",
   "metadata": {
    "tags": []
   },
   "outputs": [],
   "source": [
    "sc.pl.violin(adata, ['n_genes_by_counts', 'total_counts'],jitter=0.4, multi_panel=True)"
   ]
  },
  {
   "cell_type": "code",
   "execution_count": null,
   "id": "1315ba02",
   "metadata": {
    "tags": []
   },
   "outputs": [],
   "source": [
    "st_neighbor = scipy.spatial.distance.cdist(spcoor,spcoor)\n",
    "sigma = 3\n",
    "st_neighbor = np.exp(-st_neighbor**2/(2*sigma**2))/(np.sqrt(2*np.pi)*sigma)"
   ]
  },
  {
   "cell_type": "code",
   "execution_count": null,
   "id": "60b4c90b",
   "metadata": {
    "tags": []
   },
   "outputs": [],
   "source": [
    "figsize(3,4)\n",
    "plt.scatter(spcoor.values[:,0],spcoor.values[:,1],c=np.log1p(st_neighbor[30,:]),s=20)"
   ]
  },
  {
   "cell_type": "code",
   "execution_count": null,
   "id": "f801af25",
   "metadata": {
    "tags": []
   },
   "outputs": [],
   "source": [
    "class setting( object ):\n",
    "    pass\n",
    "seed_all(2022)\n",
    "opt= setting()\n",
    "setattr(opt, 'device', 'cuda:0')\n",
    "setattr(opt, 'outf', 'log/Mouse_E1z2')\n",
    "setattr(opt, 'n_genes', 351)\n",
    "setattr(opt, 'no_bn', False)\n",
    "setattr(opt, 'lr', 0.002)\n",
    "setattr(opt, 'sigma', 3)\n",
    "setattr(opt, 'alpha', 0.8)\n",
    "setattr(opt, 'verbose', True)\n",
    "setattr(opt, 'mmdbatch', 32)\n",
    "setattr(opt, 'dp', dp)"
   ]
  },
  {
   "cell_type": "code",
   "execution_count": null,
   "id": "b7746726",
   "metadata": {
    "scrolled": true,
    "tags": []
   },
   "outputs": [],
   "source": [
    "%%time\n",
    "testmodel = SOmodel(opt)\n",
    "testmodel.togpu()\n",
    "loss_curve = testmodel.train_wholedata(400,torch.tensor(scdata.values).float(),torch.tensor(stdata.values).float(),torch.tensor(spcoor.values).float())"
   ]
  },
  {
   "cell_type": "code",
   "execution_count": null,
   "id": "7ff4624e",
   "metadata": {
    "tags": []
   },
   "outputs": [],
   "source": [
    "figsize(6,3)\n",
    "skip=10\n",
    "N = len(loss_curve['E'])-skip\n",
    "plt.plot(np.arange(N),loss_curve['E'][skip:],label='E')\n",
    "plt.plot(np.arange(N),loss_curve['E_pred'][skip:],label='E_pred')\n",
    "plt.plot(np.arange(N),loss_curve['E_circle'][skip:],label='E_circle')\n",
    "plt.plot(np.arange(N),loss_curve['E_mmd'][skip:],label='E_mmd')\n",
    "plt.legend()"
   ]
  },
  {
   "cell_type": "code",
   "execution_count": null,
   "id": "b14b68a0",
   "metadata": {
    "tags": []
   },
   "outputs": [],
   "source": [
    "testmodel.modeleval()\n",
    "scembedding = testmodel.netE(torch.tensor(scdata.values,dtype=torch.float32).cuda())\n",
    "stembedding = testmodel.netE(torch.tensor(stdata.values,dtype=torch.float32).cuda())\n",
    "netst2sc = F.softmax(stembedding.mm(scembedding.t()),dim=1).detach().cpu().numpy()\n",
    "netsc2st = F.softmax(scembedding.mm(stembedding.t()),dim=1).detach().cpu().numpy()"
   ]
  },
  {
   "cell_type": "code",
   "execution_count": null,
   "id": "d3372992",
   "metadata": {
    "tags": []
   },
   "outputs": [],
   "source": [
    "np.save('result/230215_testdp_pure_mmd-E1z2.npy',netst2sc)\n",
    "np.save('result/230215_testdp_pure_sc2st_mmd-E1z2.npy',netsc2st)\n",
    "np.save('result/230215_scembbedding-E1z2.npy',scembedding.detach().cpu().numpy())\n",
    "np.save('result/230215_stembbedding-E1z2.npy',stembedding.detach().cpu().numpy())"
   ]
  },
  {
   "cell_type": "code",
   "execution_count": null,
   "id": "1072cec2",
   "metadata": {
    "tags": []
   },
   "outputs": [],
   "source": [
    "testmodel.save()"
   ]
  },
  {
   "cell_type": "code",
   "execution_count": null,
   "id": "0ba566ac-65fe-4ab7-953c-f4f822ce88a7",
   "metadata": {
    "tags": []
   },
   "outputs": [],
   "source": [
    "def all_coord(mappingmtx,spcoor):\n",
    "    mappingnorm = mappingmtx.div(mappingmtx.sum(axis=1), axis=0)\n",
    "\n",
    "    spaotsc_coord = np.zeros([mappingnorm.shape[0],2])\n",
    "    spaotsc_coord[:,0] = np.matmul(mappingnorm.values,spcoor.coord_x.values)\n",
    "    spaotsc_coord[:,1] = np.matmul(mappingnorm.values,spcoor.coord_y.values)\n",
    "    return spaotsc_coord\n",
    "\n",
    "def k_coord(mappingmtx,spcoor, k=1):\n",
    "    maskmap = np.zeros_like(mappingmtx)\n",
    "\n",
    "    argmask = np.argsort(1/mappingmtx.values,axis=1)\n",
    "\n",
    "    for i in range(argmask.shape[0]):\n",
    "        for j in range(k):\n",
    "            maskmap[i,argmask[i,j]]=1\n",
    "\n",
    "    mappingnorm = (maskmap*mappingmtx).div((maskmap*mappingmtx).sum(axis=1), axis=0)\n",
    "\n",
    "    spaotsc_coord = np.zeros([mappingnorm.shape[0],2])\n",
    "    spaotsc_coord[:,0] = np.matmul(mappingnorm.values,spcoor.coord_x.values)\n",
    "    spaotsc_coord[:,1] = np.matmul(mappingnorm.values,spcoor.coord_y.values)\n",
    "    return spaotsc_coord"
   ]
  },
  {
   "cell_type": "code",
   "execution_count": null,
   "id": "9c9748f4-4092-4419-a53d-0824ddc94a7a",
   "metadata": {
    "tags": []
   },
   "outputs": [],
   "source": [
    "adata.obsm['spatialDA'] = all_coord(pd.DataFrame(netsc2st,index=adata.obs_names,columns=stadata.obs_names),spcoor)"
   ]
  },
  {
   "cell_type": "code",
   "execution_count": null,
   "id": "f6516d81-57fa-4cd0-8b2b-dc417e20a313",
   "metadata": {
    "tags": []
   },
   "outputs": [],
   "source": [
    "rcParams['pdf.fonttype'] = 42\n",
    "rcParams['ps.fonttype'] = 42"
   ]
  },
  {
   "cell_type": "markdown",
   "id": "0775b612",
   "metadata": {},
   "source": [
    "# Saliency Map"
   ]
  },
  {
   "cell_type": "code",
   "execution_count": null,
   "id": "357d6666-bb14-4eb6-8ff4-9aa9872a373f",
   "metadata": {
    "tags": []
   },
   "outputs": [],
   "source": [
    "sc.settings.figdir = './result_E1z2/'"
   ]
  },
  {
   "cell_type": "markdown",
   "id": "f4240b1c",
   "metadata": {},
   "source": [
    "## Spinalcoord"
   ]
  },
  {
   "cell_type": "code",
   "execution_count": null,
   "id": "ef24d2aa",
   "metadata": {
    "tags": []
   },
   "outputs": [],
   "source": [
    "spinalcoorddata = scdata[(scmetadata['celltype_mapped_refined']=='Spinal cord')&(scmetadata.y_global>1410)].copy()\n",
    "spinalcoorddata = torch.Tensor(spinalcoorddata.values).cuda()\n",
    "\n",
    "spinalmetadata = scmetadata[scmetadata['celltype_mapped_refined']=='Spinal cord']\n",
    "spinalmetadata = spinalmetadata[spinalmetadata.y_global>1410]\n",
    "\n",
    "spinaladata = adata[(scmetadata['celltype_mapped_refined']=='Spinal cord')&(scmetadata.y_global>1410),:].copy()"
   ]
  },
  {
   "cell_type": "code",
   "execution_count": null,
   "id": "e5b34d71",
   "metadata": {
    "tags": []
   },
   "outputs": [],
   "source": [
    "def curve_length(x,y):\n",
    "    x = np.linspace(0, y-x, 100)\n",
    "    curve = a5*x**5+a4*x**4 + a3*x**3 + a2*x**2 +a1*x+a0\n",
    "    return np.sum(np.sqrt(np.sum((curve[:-1] - curve[1:])**2,axis=1)))"
   ]
  },
  {
   "cell_type": "code",
   "execution_count": null,
   "id": "23a2d224",
   "metadata": {
    "tags": []
   },
   "outputs": [],
   "source": [
    "spinalspcoor =  spinaladata.obsm['spatial']\n",
    "\n",
    "a5,a4, a3,a2,a1,a0= np.polyfit(spinalspcoor[:,0],spinalspcoor[:,1],5)\n",
    "fity = a5*spinalspcoor[:,0]**5+a4*spinalspcoor[:,0]**4 + a3*spinalspcoor[:,0]**3 + a2*spinalspcoor[:,0]**2 +a1*spinalspcoor[:,0]+a0\n",
    "\n",
    "pseudotime = []\n",
    "for i in range(spinalspcoor.shape[0]):\n",
    "    pseudotime.append(curve_length(spinalspcoor[0,:],spinalspcoor[i,:]))\n",
    "\n",
    "pseudotime = np.array(pseudotime)/1e8\n",
    "pseudotime = (pseudotime.max() - pseudotime)/(pseudotime.max()-pseudotime.min())\n",
    "# plt.savefig('nipsfig/embro_spinal_traj.png',bbox_inches='tight',dpi=330)\n",
    "spinaladata.obs['pseudotime'] = pseudotime\n",
    "spinaladata.obsm['pseudotime'] = np.expand_dims(np.array(pseudotime),1)"
   ]
  },
  {
   "cell_type": "code",
   "execution_count": null,
   "id": "88f452dc-324a-47ba-a9b3-ec22431a4ac0",
   "metadata": {
    "tags": []
   },
   "outputs": [],
   "source": [
    "sc.pl.spatial(spinaladata,color='pseudotime',spot_size=2,basis='spatial')"
   ]
  },
  {
   "cell_type": "code",
   "execution_count": null,
   "id": "d24f70ae",
   "metadata": {
    "tags": []
   },
   "outputs": [],
   "source": [
    "sc.pp.neighbors(spinaladata,use_rep='pseudotime')\n",
    "sc.tl.leiden(spinaladata,resolution=0.1)"
   ]
  },
  {
   "cell_type": "code",
   "execution_count": null,
   "id": "797a1db3",
   "metadata": {
    "tags": []
   },
   "outputs": [],
   "source": [
    "figsize(4,5)\n",
    "sc.pl.spatial(spinaladata,color='leiden',spot_size=2,save='segments')"
   ]
  },
  {
   "cell_type": "code",
   "execution_count": null,
   "id": "1b089244",
   "metadata": {
    "tags": []
   },
   "outputs": [],
   "source": [
    "class Captummodel(nn.Module):\n",
    "    def __init__(self, netE, stembedding):\n",
    "        super(Captummodel, self).__init__()\n",
    "\n",
    "        self.netE = netE\n",
    "        self.netE.eval()\n",
    "        self.stembedding = stembedding.t()\n",
    "\n",
    "    def forward(self, x):\n",
    "        x = self.netE(x)\n",
    "        return x.mm(self.stembedding)\n",
    "from captum.attr import IntegratedGradients"
   ]
  },
  {
   "cell_type": "code",
   "execution_count": null,
   "id": "8a208448",
   "metadata": {
    "tags": []
   },
   "outputs": [],
   "source": [
    "from tqdm import tqdm\n",
    "capt = Captummodel(testmodel.netE,stembedding.detach())\n",
    "capt.eval()\n",
    "\n",
    "\n",
    "allsali = []\n",
    "allbestidx = []\n",
    "alldelta = []\n",
    "allscemb = []\n",
    "for i in tqdm(range(spinalcoorddata.shape[0])):\n",
    "    inputdata = spinalcoorddata[i].unsqueeze(0)\n",
    "    scembedding = testmodel.netE(inputdata)\n",
    "    allscemb.append(scembedding.detach().cpu().numpy())\n",
    "    spinal2st = scembedding.mm(stembedding.detach().t())\n",
    "    idx = spinal2st.argmax()\n",
    "    ig = IntegratedGradients(capt)\n",
    "    attributions,delta = ig.attribute(inputdata,target=idx,return_convergence_delta=True)\n",
    "    allsali.append(attributions.detach().cpu().numpy()[0])\n",
    "    alldelta.append(delta.mean().item())\n",
    "allsali = np.array(allsali)"
   ]
  },
  {
   "cell_type": "code",
   "execution_count": null,
   "id": "5774b22a-dcde-49c5-8513-dfd903b89d72",
   "metadata": {
    "tags": []
   },
   "outputs": [],
   "source": [
    "saliadata = sc.AnnData(pd.DataFrame(allsali,columns=scdata.columns,index = spinaladata.obs_names),obs = spinaladata.obs)\n",
    "saliadata.obsm['spatial'] = spinaladata.obsm['spatial']\n",
    "saliadata.obsm['spatialDA'] = spinaladata.obsm['spatialDA']"
   ]
  },
  {
   "cell_type": "code",
   "execution_count": null,
   "id": "51a6f0cb-88b7-4318-bfc4-04aee0382cdb",
   "metadata": {
    "scrolled": true,
    "tags": []
   },
   "outputs": [],
   "source": [
    "sc.tl.rank_genes_groups(saliadata,groupby='leiden',method='wilcoxon')"
   ]
  },
  {
   "cell_type": "code",
   "execution_count": null,
   "id": "01b266ae-3a21-4b8b-97a3-432553f81f09",
   "metadata": {
    "tags": []
   },
   "outputs": [],
   "source": [
    "sc.get.rank_genes_groups_df(saliadata,pval_cutoff =0.05,log2fc_min=0,group=None).names.unique().shape"
   ]
  },
  {
   "cell_type": "code",
   "execution_count": null,
   "id": "47732345",
   "metadata": {
    "tags": []
   },
   "outputs": [],
   "source": [
    "maxclt = saliadata.obs['leiden'].values.astype(int).max()\n",
    "clusteridx =[]\n",
    "for i in range(maxclt+1):\n",
    "    clusteridx.append(saliadata.obs.loc[saliadata.obs['leiden']==str(i),'pseudotime'].mean())\n",
    "\n",
    "a = np.arange(maxclt+1)\n",
    "reclusterindex = [a for _,a in sorted(zip(clusteridx,a))]"
   ]
  },
  {
   "cell_type": "code",
   "execution_count": null,
   "id": "d0708d46-e1e1-42d2-b136-e076b0d85be1",
   "metadata": {
    "tags": []
   },
   "outputs": [],
   "source": [
    "import seaborn as sns\n",
    "rkgene = pd.DataFrame(saliadata.uns['rank_genes_groups']['names'])\n",
    "cellorder = saliadata.obs.sort_values('pseudotime').index\n",
    "salidf = pd.DataFrame(saliadata[cellorder,:].X,index=saliadata[cellorder,:].obs.pseudotime.tolist(),columns=saliadata.var_names)\n",
    "\n",
    "N=4\n",
    "topgenelist = []\n",
    "for i in reclusterindex:\n",
    "    topgenelist += rkgene.iloc[:N,i].tolist()\n",
    "\n",
    "sal_plotgenelist=[]\n",
    "for x in topgenelist:\n",
    "    if x not in sal_plotgenelist:\n",
    "        sal_plotgenelist.append(x)\n",
    "df = salidf.loc[:,sal_plotgenelist].T"
   ]
  },
  {
   "cell_type": "code",
   "execution_count": null,
   "id": "5cdf4ee5-26f0-48bb-a04e-37c22acdee19",
   "metadata": {
    "tags": []
   },
   "outputs": [],
   "source": [
    "plotsali = saliadata[cellorder,:].copy()\n",
    "sc.pp.scale(plotsali)"
   ]
  },
  {
   "cell_type": "code",
   "execution_count": null,
   "id": "88909c0a-9472-454c-9ad1-f02bf48c8363",
   "metadata": {
    "tags": []
   },
   "outputs": [],
   "source": [
    "sc.pl.heatmap(plotsali,df.index.tolist(),groupby='pseudotime',cmap='bwr',swap_axes=False,standard_scale='obs',figsize=(9,2),save='spinal_traj_axis.pdf')"
   ]
  },
  {
   "cell_type": "code",
   "execution_count": null,
   "id": "a1fd4175-f514-495a-9e93-2b94535c8d8f",
   "metadata": {
    "tags": []
   },
   "outputs": [],
   "source": [
    "import matplotlib.colors as colors\n",
    "figsize(3.8,3)\n",
    "rcParams['axes.spines.right'] = False\n",
    "rcParams['axes.spines.top'] = False\n",
    "rcParams['axes.spines.left'] = False\n",
    "rcParams['axes.spines.bottom'] = False\n",
    "rcParams['pdf.fonttype'] = 42\n",
    "rcParams['ps.fonttype'] = 42\n",
    "sc.pl.spatial(spinaladata,spot_size=3,color=['Marcks','Hoxb5','Sfrp1','Pcdh19','Hoxb1','Mesp2'],ncols=6,basis='spatial',save='trajectory_exrpession.pdf')"
   ]
  },
  {
   "cell_type": "code",
   "execution_count": null,
   "id": "ea773cdd-1833-4e4f-be9e-f9322539295a",
   "metadata": {
    "tags": []
   },
   "outputs": [],
   "source": [
    "sc.pl.spatial(spinaladata,spot_size=3,color=['Marcks','Hoxb5','Sfrp1','Pcdh19','Hoxb1','Mesp2'],cmap='coolwarm',ncols=6,basis='spatial')"
   ]
  },
  {
   "cell_type": "code",
   "execution_count": null,
   "id": "0c3cc587-d5c0-4686-b020-0f22f305c0d0",
   "metadata": {
    "tags": []
   },
   "outputs": [],
   "source": [
    "figsize(3.8,2.8)\n",
    "rcParams['axes.spines.left'] = True\n",
    "rcParams['axes.spines.bottom'] = True\n",
    "sc.pl.spatial(spinaladata,spot_size=3,color=['Nebl','Bak1','Kmt2d','Suz12','Fgfr2'],ncols=6,cmap='coolwarm',basis='spatial',save='nonspatialsdg.pdf')\n",
    "sc.pl.spatial(saliadata,spot_size=2,color=['Nebl','Bak1','Kmt2d','Suz12','Fgfr2'],ncols=6,cmap='coolwarm',basis='spatial',norm = colors.SymLogNorm(linthresh=0.001,base=10),save='nonspatialsdg-saliency.pdf')"
   ]
  },
  {
   "cell_type": "markdown",
   "id": "ad5075ab",
   "metadata": {},
   "source": [
    "## Forebrain/Midbrain/Hindbrain"
   ]
  },
  {
   "cell_type": "code",
   "execution_count": null,
   "id": "804b2419-9798-4db0-b577-b747208e0647",
   "metadata": {
    "tags": []
   },
   "outputs": [],
   "source": [
    "spinaladata = adata[scmetadata['celltype_mapped_refined']=='Forebrain/Midbrain/Hindbrain',:].copy()\n",
    "spinaladata = spinaladata[spinaladata.obs['y_global']<1430].copy()\n",
    "spinaladata = spinaladata[spinaladata.obs['x_global']<1630].copy()\n",
    "\n",
    "sc.pp.neighbors(spinaladata,use_rep='spatial')\n",
    "sc.tl.leiden(spinaladata,resolution=0.5)\n",
    "sc.pl.spatial(spinaladata,color='leiden',spot_size=2,basis='spatial') "
   ]
  },
  {
   "cell_type": "code",
   "execution_count": null,
   "id": "60958341-fb45-4922-b0f7-b7a7ae694c5d",
   "metadata": {
    "tags": []
   },
   "outputs": [],
   "source": [
    "\n",
    "spinaladata.obs['name'] = spinaladata.obs['leiden'].copy().astype(str)\n",
    "spinaladata.obs.loc[spinaladata.obs['leiden']=='0','name'] ='Hindbrain'\n",
    "spinaladata.obs.loc[spinaladata.obs['leiden']=='1','name'] ='Midbrain'\n",
    "spinaladata.obs.loc[spinaladata.obs['leiden']=='2','name'] ='Hindbrain'\n",
    "spinaladata.obs.loc[spinaladata.obs['leiden']=='3','name'] ='Forebrain'\n",
    "spinaladata.obs.loc[spinaladata.obs['leiden']=='4','name'] ='Forebrain'\n",
    "spinaladata.obs.loc[spinaladata.obs['leiden']=='5','name'] ='Forebrain'\n",
    "spinaladata.obs.loc[spinaladata.obs['leiden']=='6','name'] ='Forebrain'\n",
    "spinaladata.obs.loc[spinaladata.obs['leiden']=='7','name'] ='Forebrain'\n",
    "spinaladata.obs.loc[spinaladata.obs['leiden']=='8','name'] ='Midbrain'\n",
    "spinaladata.obs.loc[spinaladata.obs['leiden']=='9','name'] ='Tegmentum'\n",
    "spinaladata.obs.loc[spinaladata.obs['leiden']=='10','name'] ='Tegmentum'\n",
    "figsize(4,4)\n",
    "sc.pl.spatial(spinaladata,color='name',spot_size=2,basis='spatial',save='embro_brainsep') "
   ]
  },
  {
   "cell_type": "code",
   "execution_count": null,
   "id": "623704ae-1aee-42a9-a784-df07be5d9516",
   "metadata": {
    "tags": []
   },
   "outputs": [],
   "source": [
    "# spinaladata = spinaladata[spinaladata.obs.name.isin(['Midbrain','Tegmentum']),:]\n",
    "spinalcoorddata = np.array(spinaladata.X)\n",
    "spinalmetadata = spinaladata.obs"
   ]
  },
  {
   "cell_type": "code",
   "execution_count": null,
   "id": "5025568d",
   "metadata": {
    "tags": []
   },
   "outputs": [],
   "source": [
    "from tqdm import tqdm\n",
    "capt = Captummodel(testmodel.netE,stembedding.detach())\n",
    "capt.eval()\n",
    "spinalcoorddata = torch.Tensor(spinalcoorddata).cuda()\n",
    "\n",
    "allsali = []\n",
    "allbestidx = []\n",
    "alldelta = []\n",
    "allemb=[]\n",
    "for i in tqdm(range(spinalcoorddata.shape[0])):\n",
    "    inputdata = spinalcoorddata[i].unsqueeze(0)\n",
    "    scembedding = testmodel.netE(inputdata)\n",
    "    allemb.append(scembedding.detach().cpu().numpy())\n",
    "    spinal2st = scembedding.mm(stembedding.detach().t())\n",
    "    idx = spinal2st.argmax()\n",
    "    ig = IntegratedGradients(capt)\n",
    "    attributions,delta = ig.attribute(inputdata,target=idx,return_convergence_delta=True)\n",
    "    # attributions, delta = nt.attribute(inputdata,baselines= torch.rand_like(inputdata)*0.01,nt_type='smoothgrad', stdevs=0.02, nt_samples=5, target=idx, return_convergence_delta=True)\n",
    "    allsali.append(attributions.detach().cpu().numpy()[0])\n",
    "    alldelta.append(delta.mean().item())\n",
    "\n",
    "allsali = np.array(allsali)"
   ]
  },
  {
   "cell_type": "code",
   "execution_count": null,
   "id": "2f1de998-213b-4dfc-b862-20a139a4c377",
   "metadata": {
    "tags": []
   },
   "outputs": [],
   "source": [
    "saliadata = sc.AnnData(pd.DataFrame(allsali,columns=scdata.columns,index = spinaladata.obs_names),obs = spinaladata.obs)\n",
    "saliadata.obsm['spatial'] = spinaladata.obsm['spatial']\n",
    "saliadata.obsm['spatialDA'] = spinaladata.obsm['spatialDA']"
   ]
  },
  {
   "cell_type": "code",
   "execution_count": null,
   "id": "4154a12d-16a5-45ab-9f00-1e8c1507ed23",
   "metadata": {
    "tags": []
   },
   "outputs": [],
   "source": [
    "allscemb =np.squeeze(np.array(allemb))\n",
    "embadata = sc.AnnData(pd.DataFrame(allscemb,index = spinaladata.obs_names),obs = spinaladata.obs)\n",
    "embadata.obsm['spatial'] = spinaladata.obsm['spatial']\n",
    "embadata.obsm['spatialDA'] = spinaladata.obsm['spatialDA']\n",
    "sc.pp.neighbors(embadata,use_rep='X',metric='cosine')\n",
    "sc.tl.umap(embadata)"
   ]
  },
  {
   "cell_type": "code",
   "execution_count": null,
   "id": "ce1b436e-6095-4383-84ee-d4e6e41d26a5",
   "metadata": {
    "tags": []
   },
   "outputs": [],
   "source": [
    "sc.pl.umap(embadata,color=['name'],save='embro_brainsep_emb')"
   ]
  },
  {
   "cell_type": "code",
   "execution_count": null,
   "id": "6cc56eeb-df7d-4e56-a99f-30ca066f410f",
   "metadata": {
    "tags": []
   },
   "outputs": [],
   "source": [
    "clsspinaladata = spinaladata.copy()\n",
    "sc.pp.scale(clsspinaladata)\n",
    "sc.pp.pca(clsspinaladata)\n",
    "sc.pp.neighbors(clsspinaladata)\n",
    "sc.tl.umap(clsspinaladata)"
   ]
  },
  {
   "cell_type": "code",
   "execution_count": null,
   "id": "665ee892-f6b4-49c0-af64-8f55125f89f3",
   "metadata": {
    "tags": []
   },
   "outputs": [],
   "source": [
    "sc.pl.umap(clsspinaladata,color=['name'],save='embro_brainsep_raw')"
   ]
  },
  {
   "cell_type": "markdown",
   "id": "124a538e-d92e-4d0b-ad04-e1861e527be6",
   "metadata": {},
   "source": [
    "# Search Sigma"
   ]
  },
  {
   "cell_type": "code",
   "execution_count": null,
   "id": "0952d3bf-218b-4da0-a045-32f4fb54a89c",
   "metadata": {
    "tags": []
   },
   "outputs": [],
   "source": [
    "sc_gtcoord = scmetadata[['x_global','y_global']]\n",
    "true_sc2sc = scipy.spatial.distance.cdist(sc_gtcoord,sc_gtcoord)\n",
    "true_argmask = np.argsort(true_sc2sc,axis=1)"
   ]
  },
  {
   "cell_type": "code",
   "execution_count": null,
   "id": "433e3ebc-8b03-4a66-a05d-f8f3efde45d9",
   "metadata": {
    "scrolled": true,
    "tags": []
   },
   "outputs": [],
   "source": [
    "class setting( object ):\n",
    "    pass\n",
    "seed_all(2022)\n",
    "krgc={}\n",
    "allloss = {}\n",
    "for sig in np.arange(0,10,1).tolist():\n",
    "    opt= setting()\n",
    "    setattr(opt, 'device', 'cuda:0')\n",
    "    setattr(opt, 'outf', 'log/Mouse_E1z2—sigma-search')\n",
    "    setattr(opt, 'n_genes', 351)\n",
    "    setattr(opt, 'no_bn', False)\n",
    "    setattr(opt, 'lr', 0.002)\n",
    "    setattr(opt, 'sigma', sig)\n",
    "    setattr(opt, 'alpha', 0.8)\n",
    "    setattr(opt, 'verbose', False)\n",
    "    setattr(opt, 'mmdbatch', 1000)\n",
    "    setattr(opt, 'dp', dp)\n",
    "\n",
    "    testmodel = SOmodel(opt)\n",
    "    testmodel.togpu()\n",
    "    loss_curve = testmodel.train_wholedata(400,torch.tensor(scdata.values).float(),torch.tensor(stdata.values).float(),torch.tensor(spcoor.values).float())\n",
    "    testmodel.modeleval()\n",
    "    scembedding = testmodel.netE(torch.tensor(scdata.values,dtype=torch.float32).cuda())\n",
    "    scembedding = scembedding.detach().cpu().numpy()\n",
    "    sc2sc = np.matmul(scembedding,scembedding.T)\n",
    "    argmask = np.argsort(-sc2sc,axis=1)\n",
    "    krg = []\n",
    "    for k in range(1,26):\n",
    "        k_list = []\n",
    "        for i in range(argmask.shape[0]):\n",
    "            k_list.append(len(set(argmask[i][:k].tolist()).intersection(set(true_argmask[i][:k].tolist()))))\n",
    "        krg.append(np.mean(k_list))\n",
    "    allloss['sig_'+str(sig)] = loss_curve\n",
    "    krgc['sig_'+str(sig)] = krg"
   ]
  },
  {
   "cell_type": "code",
   "execution_count": null,
   "id": "ff5575b6-47f9-47b9-a4d3-a8798d28b520",
   "metadata": {
    "tags": []
   },
   "outputs": [],
   "source": [
    "pd.DataFrame(krgc).to_csv('./result/sigma_MouseE1z2.csv')"
   ]
  },
  {
   "cell_type": "code",
   "execution_count": null,
   "id": "d6db266e-b96e-4781-98aa-b9c334acfc95",
   "metadata": {
    "tags": []
   },
   "outputs": [],
   "source": [
    "import pickle\n",
    "with open('./result/sigma_MouseE1z2_loss.pkl','wb') as f:\n",
    "    pickle.dump(loss_curve,f)"
   ]
  },
  {
   "cell_type": "code",
   "execution_count": null,
   "id": "906c3afe-9da6-4aef-98a0-491826e7a944",
   "metadata": {
    "tags": []
   },
   "outputs": [],
   "source": [
    "import seaborn as sns\n",
    "figsize(6,4)\n",
    "ax = sns.lineplot(data = pd.DataFrame(krgc))\n",
    "plt.xlabel('neighbor K')\n",
    "plt.ylabel('hit number')"
   ]
  },
  {
   "cell_type": "code",
   "execution_count": null,
   "id": "b347bd47-8e1f-4cdc-bc46-7bc1c58552bf",
   "metadata": {
    "tags": []
   },
   "outputs": [],
   "source": [
    "pd.DataFrame(krgc)"
   ]
  },
  {
   "cell_type": "code",
   "execution_count": null,
   "id": "5b2003d1",
   "metadata": {},
   "outputs": [],
   "source": []
  }
 ],
 "metadata": {
  "kernelspec": {
   "display_name": "Python 3 (ipykernel)",
   "language": "python",
   "name": "python3"
  },
  "language_info": {
   "codemirror_mode": {
    "name": "ipython",
    "version": 3
   },
   "file_extension": ".py",
   "mimetype": "text/x-python",
   "name": "python",
   "nbconvert_exporter": "python",
   "pygments_lexer": "ipython3",
   "version": "3.11.5"
  },
  "toc-showtags": false
 },
 "nbformat": 4,
 "nbformat_minor": 5
}
